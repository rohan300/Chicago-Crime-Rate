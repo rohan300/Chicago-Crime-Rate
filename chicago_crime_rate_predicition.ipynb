{
 "cells": [
  {
   "cell_type": "markdown",
   "id": "d6ee7d87",
   "metadata": {},
   "source": [
    "# Predicting the crime rate in Chicago using Prophet time series"
   ]
  },
  {
   "cell_type": "markdown",
   "id": "0ae3d26d",
   "metadata": {},
   "source": [
    "## Problem Statement"
   ]
  },
  {
   "cell_type": "markdown",
   "id": "016f24eb",
   "metadata": {},
   "source": [
    "Crime is a critical concern in urban areas, with Chicago being no exception. To address this issue effectively and allocate resources efficiently, there is a pressing need for accurate crime rate predictions. The goal of this project is to develop a predictive model using the Prophet time series forecasting algorithm to forecast crime rates in Chicago.\n",
    "\n",
    "Background:\n",
    "Chicago experiences a diverse range of crimes, and its crime rates can vary significantly over time and across different neighborhoods. Accurate crime rate predictions can assist law enforcement agencies, city planners, and policymakers in making data-driven decisions to enhance public safety and allocate resources optimally.\n",
    "\n",
    "Having studied in Chicago for a year, crime was a major concern whenever I stepped out. \n",
    "\n",
    "The Chicago Crime dataset that I am using contains a summary of the reported crimes occurred in the City of Chicago from 2001 to 2017. The dataset has been obtained from the Chicago Police Department's CLEAR (Citizen Law Enforcement Analysis and Reporting) system.\n"
   ]
  },
  {
   "cell_type": "code",
   "execution_count": null,
   "id": "5d03a18d",
   "metadata": {},
   "outputs": [],
   "source": []
  }
 ],
 "metadata": {
  "kernelspec": {
   "display_name": "Python 3 (ipykernel)",
   "language": "python",
   "name": "python3"
  },
  "language_info": {
   "codemirror_mode": {
    "name": "ipython",
    "version": 3
   },
   "file_extension": ".py",
   "mimetype": "text/x-python",
   "name": "python",
   "nbconvert_exporter": "python",
   "pygments_lexer": "ipython3",
   "version": "3.9.12"
  }
 },
 "nbformat": 4,
 "nbformat_minor": 5
}
